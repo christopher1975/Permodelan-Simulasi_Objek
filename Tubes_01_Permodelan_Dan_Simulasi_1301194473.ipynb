{
  "nbformat": 4,
  "nbformat_minor": 0,
  "metadata": {
    "colab": {
      "name": "Tubes_01_Permodelan Dan Simulasi_1301194473 ",
      "provenance": [],
      "collapsed_sections": []
    },
    "kernelspec": {
      "name": "python3",
      "display_name": "Python 3"
    },
    "language_info": {
      "name": "python"
    }
  },
  "cells": [
    {
      "cell_type": "markdown",
      "source": [
        "**Tubes 1 Permodelan Dan Simulasi** "
      ],
      "metadata": {
        "id": "V9y2-c4pcCj9"
      }
    },
    {
      "cell_type": "markdown",
      "source": [
        "**Muhammad Zalfa Thoriq**\n",
        "\n",
        "**1301194473**\n",
        "\n",
        "**IF - 42 - GAB01**\n",
        "\n",
        "\n",
        "\n"
      ],
      "metadata": {
        "id": "LqUGghLKbenG"
      }
    },
    {
      "cell_type": "markdown",
      "source": [
        "B. Tugas\n",
        "\n",
        "Suatu objek dengan massa 0.15 kg ditembakkan dari permukaan tanah dengan \n",
        "kecepatan awal 50 m/s dan sudut tembak 35 derajat\n",
        ". Dengan menggunakan nilai D = 0.0013 \n",
        "dan Delta t = 0.01\n",
        "1. Hitung dan bandingkan posisi objek sejak ditembakkan hingga sampai ke\n",
        "permukaan tanah dengan mengabaikan dan mempertimbangkan hambatan \n",
        "udara.\n",
        "2. Lakukan validasi terhadap hasil perhitungan numerik untuk kasus yang pertama\n",
        "(tanpa hambatan udara)"
      ],
      "metadata": {
        "id": "XbwPuml0bBWF"
      }
    },
    {
      "cell_type": "code",
      "source": [
        "import matplotlib.pyplot as plt \n",
        "import numpy as np\n",
        "import math"
      ],
      "metadata": {
        "id": "06gh4ni-bcYU"
      },
      "execution_count": 54,
      "outputs": []
    },
    {
      "cell_type": "code",
      "source": [
        "m = 0.15                #massa\n",
        "v0 = 50                 #kecepatan awal\n",
        "o = 35 * math.pi/180    #teta\n",
        "D = 0.0013              #konstanta\n",
        "dt = 0.01               #delta t\n",
        "g = 9.806               #gravitasi\n",
        "a = -g                  #minus gravitasi"
      ],
      "metadata": {
        "id": "4iPU1liob3lS"
      },
      "execution_count": 55,
      "outputs": []
    },
    {
      "cell_type": "markdown",
      "source": [
        "**1. Hitung dan bandingkan posisi objek sejak ditembakkan hingga sampai ke permukaan tanah dengan mengabaikan dan mempertimbangkan hambatan udara**"
      ],
      "metadata": {
        "id": "jKIGOKH5dZ9C"
      }
    },
    {
      "cell_type": "code",
      "source": [
        "# Numerik dengan Mempertimbangkan Hambatan\n",
        "\n",
        "def numerik_mempertimbangkan(v0, o, dt, g, m, D):\n",
        "  x = 0\n",
        "  y = 0\n",
        "  t = 0\n",
        "  x_array = []\n",
        "  y_array = []\n",
        "\n",
        "  vx = v0 * np.cos(o)\n",
        "  vy = v0 * np.sin(o)\n",
        "\n",
        "  ax = -(D/m) * v0 * vx\n",
        "  ay = -g - (D/m) * v0 * vy\n",
        "\n",
        "  while y >= 0:\n",
        "    x_array.append(x)\n",
        "    y_array.append(y)\n",
        "    t += dt\n",
        "\n",
        "    vx = vx + (ax * dt)\n",
        "    vy = vy + (ay * dt)\n",
        "\n",
        "    v = np.sqrt(pow(vx,2) + pow(vy,2))\n",
        "    x = x + (vx * dt)\n",
        "    y = y + (vy * dt)\n",
        "\n",
        "    ax = -(D/m) * v * vx\n",
        "    ay = -g - ((D/m) * v * vy)\n",
        "  \n",
        "  return x_array,y_array"
      ],
      "metadata": {
        "id": "VXuaS-8-czjQ"
      },
      "execution_count": 56,
      "outputs": []
    },
    {
      "cell_type": "code",
      "source": [
        "# Numerik dengan Mengabaikan Hambatan\n",
        "\n",
        "def numerik_mengabaikan(v0, o, dt, a):\n",
        "  x = 0\n",
        "  y = 0\n",
        "  t = 0\n",
        "  x_array = []\n",
        "  y_array = []\n",
        "\n",
        "  vx = v0 * np.cos(o) \n",
        "  vy = v0 * np.sin(o)\n",
        "\n",
        "  while y >= 0:\n",
        "    x_array.append(x)\n",
        "    y_array.append(y)\n",
        "    t += dt\n",
        "\n",
        "    vy = vy + (a * dt)\n",
        "\n",
        "    x = x + (vx * dt)\n",
        "    y = y + (vy * dt)\n",
        "  \n",
        "  return x_array,y_array"
      ],
      "metadata": {
        "id": "xqdOdpSLcw5S"
      },
      "execution_count": 57,
      "outputs": []
    },
    {
      "cell_type": "code",
      "source": [
        "x_mengabaikan, y_mengabaikan = numerik_mengabaikan(v0, o, dt, a)\n",
        "x_mempertimbangkan, y_mempertimbangkan = numerik_mempertimbangkan(v0, o, dt, g, m, D)\n",
        "\n",
        "mengabaikan, = plt.plot(x_mengabaikan, y_mengabaikan, label = 'Numerik Mengabaikan Hambatan')\n",
        "mempertimbangkan, = plt.plot(x_mempertimbangkan, y_mempertimbangkan, label = 'Numerik Mempertimbangkan Hambatan')\n",
        "plt.legend(handles=[mengabaikan, mempertimbangkan])\n",
        "plt.show()\n",
        "print(\"Jarak Maksimum: \",max(x_array))\n",
        "print(\"tinggi Maksimum: \",max(y_array))"
      ],
      "metadata": {
        "colab": {
          "base_uri": "https://localhost:8080/",
          "height": 300
        },
        "id": "GqaxE4xFc3PG",
        "outputId": "dd910b9f-5ea1-435c-856b-5172bbed7e59"
      },
      "execution_count": 58,
      "outputs": [
        {
          "output_type": "display_data",
          "data": {
            "text/plain": [
              "<Figure size 432x288 with 1 Axes>"
            ],
            "image/png": "[encoded data removed]"
          },
          "metadata": {
            "needs_background": "light"
          }
        },
        {
          "output_type": "stream",
          "name": "stdout",
          "text": [
            "Jarak Maksimum:  239.1923969323856\n",
            "tinggi Maksimum:  41.93722050725273\n"
          ]
        }
      ]
    },
    {
      "cell_type": "markdown",
      "source": [
        "**2. Lakukan validasi terhadap hasil perhitungan numerik untuk kasus yang pertama (tanpa hambatan udara).**"
      ],
      "metadata": {
        "id": "8wSkaVlAc7ry"
      }
    },
    {
      "cell_type": "code",
      "source": [
        "# perhitungan Analitik\n",
        "\n",
        "def analitik(v0, o, dt, g, a):\n",
        "  t_total = (2 * v0 * np.sin(o))/g\n",
        "  t_arr = np.arange(0,t_total, dt)\n",
        "\n",
        "  x = v0 * np.cos(o) * t_total\n",
        "  x_arr = v0 * t_arr * np.cos(o)\n",
        "\n",
        "  y = v0**2 * (np.sin(o))**2/(2*a)\n",
        "  y_arr = v0 * t_arr * np.sin(o) - (1/2 * g * (t_arr)**2)\n",
        "\n",
        "  return x_array, y_array, t_total"
      ],
      "metadata": {
        "id": "H6jYYOmLdHEo"
      },
      "execution_count": 59,
      "outputs": []
    },
    {
      "cell_type": "code",
      "source": [
        "x_array, y_array, ttot = analitik(v0, o, dt, g, a)\n",
        "\n",
        "plt.plot(x_array,y_array)"
      ],
      "metadata": {
        "colab": {
          "base_uri": "https://localhost:8080/",
          "height": 282
        },
        "id": "tHo4wqmGdH9x",
        "outputId": "6a7654cb-baaf-4b63-bbfb-86c2f2077079"
      },
      "execution_count": 60,
      "outputs": [
        {
          "output_type": "execute_result",
          "data": {
            "text/plain": [
              "[<matplotlib.lines.Line2D at 0x7f1814cc9290>]"
            ]
          },
          "metadata": {},
          "execution_count": 60
        },
        {
          "output_type": "display_data",
          "data": {
            "text/plain": [
              "<Figure size 432x288 with 1 Axes>"
            ],
            "image/png": "[encoded data removed]"
          },
          "metadata": {
            "needs_background": "light"
          }
        }
      ]
    },
    {
      "cell_type": "code",
      "source": [
        "mengabaikan, = plt.plot(x_mengabaikan, y_mengabaikan, label = 'Numerik Mengabaikan Hambatan')\n",
        "Analitik, = plt.plot(x_array,y_array, label = 'Analitik')\n",
        "plt.legend(handles=[mengabaikan, Analitik])\n",
        "plt.show()"
      ],
      "metadata": {
        "colab": {
          "base_uri": "https://localhost:8080/",
          "height": 265
        },
        "id": "HLBN5GRPdKnM",
        "outputId": "fa462dbc-fdab-4940-c5a1-122a89ea7479"
      },
      "execution_count": 61,
      "outputs": [
        {
          "output_type": "display_data",
          "data": {
            "text/plain": [
              "<Figure size 432x288 with 1 Axes>"
            ],
            "image/png": "[encoded data removed]"
          },
          "metadata": {
            "needs_background": "light"
          }
        }
      ]
    }
  ]
}